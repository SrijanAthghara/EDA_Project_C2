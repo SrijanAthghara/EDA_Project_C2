{
  "cells": [
    {
      "cell_type": "markdown",
      "metadata": {
        "id": "view-in-github",
        "colab_type": "text"
      },
      "source": [
        "<a href=\"https://colab.research.google.com/github/SrijanAthghara/EDA_Project_C2/blob/main/22BDS0095.ipynb\" target=\"_parent\"><img src=\"https://colab.research.google.com/assets/colab-badge.svg\" alt=\"Open In Colab\"/></a>"
      ]
    },
    {
      "cell_type": "code",
      "execution_count": null,
      "id": "21da8b27-54f6-44dd-9e27-3c2d8fb0629b",
      "metadata": {
        "id": "21da8b27-54f6-44dd-9e27-3c2d8fb0629b"
      },
      "outputs": [],
      "source": [
        "#22BDS0095\n",
        "# Srijan Athghara"
      ]
    },
    {
      "cell_type": "code",
      "execution_count": null,
      "id": "3dd95457-7f42-4f1b-b820-1fb310388e78",
      "metadata": {
        "id": "3dd95457-7f42-4f1b-b820-1fb310388e78"
      },
      "outputs": [],
      "source": []
    }
  ],
  "metadata": {
    "kernelspec": {
      "display_name": "Python 3 (ipykernel)",
      "language": "python",
      "name": "python3"
    },
    "language_info": {
      "codemirror_mode": {
        "name": "ipython",
        "version": 3
      },
      "file_extension": ".py",
      "mimetype": "text/x-python",
      "name": "python",
      "nbconvert_exporter": "python",
      "pygments_lexer": "ipython3",
      "version": "3.12.4"
    },
    "colab": {
      "provenance": [],
      "include_colab_link": true
    }
  },
  "nbformat": 4,
  "nbformat_minor": 5
}